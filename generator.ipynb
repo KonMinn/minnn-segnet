{
 "cells": [
  {
   "cell_type": "code",
   "execution_count": 6,
   "id": "c00e6a64",
   "metadata": {},
   "outputs": [],
   "source": [
    "import cv2\n",
    "import numpy as np\n",
    "import os\n",
    "os.environ['TF_CPP_MIN_LOG_LEVEL'] = '3'\n",
    "\n",
    "from tensorflow.keras.utils import img_to_array\n",
    "\n",
    "\n",
    "def category_label(labels, dims, n_labels):\n",
    "    x = np.zeros([dims[0], dims[1], n_labels])\n",
    "    for i in range(dims[0]):\n",
    "        for j in range(dims[1]):\n",
    "            x[i, j, labels[i][j]] = 1\n",
    "    x = x.reshape(dims[0] * dims[1], n_labels)\n",
    "    return x\n",
    "\n",
    "\n",
    "def data_gen_small(img_dir, mask_dir, lists, batch_size, dims, n_labels):\n",
    "    while True:\n",
    "        ix = np.random.choice(np.arange(len(lists)), batch_size)\n",
    "        imgs = []\n",
    "        labels = []\n",
    "        for i in ix:\n",
    "            # images\n",
    "            img_path = img_dir + lists.iloc[i, 0] + \".jpg\"\n",
    "            original_img = cv2.imread(img_path)[:, :, ::-1]\n",
    "            resized_img = cv2.resize(original_img, dims + [3])\n",
    "            array_img = img_to_array(resized_img) / 255\n",
    "            imgs.append(array_img)\n",
    "            # masks\n",
    "            original_mask = cv2.imread(mask_dir + lists.iloc[i, 0] + \".png\")\n",
    "            resized_mask = cv2.resize(original_mask, (dims[0], dims[1]))\n",
    "            array_mask = category_label(resized_mask[:, :, 0], dims, n_labels)\n",
    "            labels.append(array_mask)\n",
    "        imgs = np.array(imgs)\n",
    "        labels = np.array(labels)\n",
    "        yield imgs, labels"
   ]
  },
  {
   "cell_type": "code",
   "execution_count": null,
   "id": "f77d8ff4",
   "metadata": {},
   "outputs": [],
   "source": []
  },
  {
   "cell_type": "code",
   "execution_count": null,
   "id": "ae25cddf",
   "metadata": {},
   "outputs": [],
   "source": []
  },
  {
   "cell_type": "code",
   "execution_count": null,
   "id": "ff002cb5",
   "metadata": {},
   "outputs": [],
   "source": []
  },
  {
   "cell_type": "code",
   "execution_count": null,
   "id": "8d3030ba",
   "metadata": {},
   "outputs": [],
   "source": []
  }
 ],
 "metadata": {
  "kernelspec": {
   "display_name": "Python 3 (ipykernel)",
   "language": "python",
   "name": "python3"
  },
  "language_info": {
   "codemirror_mode": {
    "name": "ipython",
    "version": 3
   },
   "file_extension": ".py",
   "mimetype": "text/x-python",
   "name": "python",
   "nbconvert_exporter": "python",
   "pygments_lexer": "ipython3",
   "version": "3.10.9"
  }
 },
 "nbformat": 4,
 "nbformat_minor": 5
}
